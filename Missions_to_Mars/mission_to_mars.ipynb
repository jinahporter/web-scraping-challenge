{
 "cells": [
  {
   "cell_type": "code",
   "execution_count": 74,
   "metadata": {},
   "outputs": [],
   "source": [
    "from splinter import Browser\n",
    "from splinter.exceptions import ElementDoesNotExist\n",
    "from bs4 import BeautifulSoup\n",
    "import pandas as pd"
   ]
  },
  {
   "cell_type": "code",
   "execution_count": 66,
   "metadata": {},
   "outputs": [],
   "source": [
    "# identify location of chromedriver and store it as a variable\n",
    "driverPath = !which chromedriver\n",
    "\n",
    "# Setup configuration variables to enable Splinter to interact with browser\n",
    "executable_path = {'executable_path': driverPath[0]}\n",
    "browser = Browser('chrome', **executable_path, headless=False)"
   ]
  },
  {
   "cell_type": "code",
   "execution_count": 67,
   "metadata": {},
   "outputs": [],
   "source": [
    "news_url = \"https://mars.nasa.gov/news/\"\n",
    "browser.visit(news_url)"
   ]
  },
  {
   "cell_type": "code",
   "execution_count": 68,
   "metadata": {},
   "outputs": [],
   "source": [
    "html = browser.html\n",
    "soup = BeautifulSoup(html, 'html.parser')"
   ]
  },
  {
   "cell_type": "code",
   "execution_count": 48,
   "metadata": {},
   "outputs": [],
   "source": [
    "#print(soup.prettify())"
   ]
  },
  {
   "cell_type": "code",
   "execution_count": 49,
   "metadata": {},
   "outputs": [],
   "source": [
    "#results = soup.find_all('div', class_=\"content_title\") \n",
    "#results_head = soup.find_all('div', class_=\"article_teaser_body\")\n",
    "#print(results)\n",
    "#print(results_head)"
   ]
  },
  {
   "cell_type": "code",
   "execution_count": 69,
   "metadata": {},
   "outputs": [
    {
     "name": "stdout",
     "output_type": "stream",
     "text": [
      "Mars Now\n"
     ]
    }
   ],
   "source": [
    "news_title = soup.find('div', class_='content_title').text\n",
    "print(news_title)"
   ]
  },
  {
   "cell_type": "code",
   "execution_count": 70,
   "metadata": {},
   "outputs": [
    {
     "name": "stdout",
     "output_type": "stream",
     "text": [
      "Sometimes half measures can be a good thing – especially on a journey this long. The agency's latest rover only has about 146 million miles left to reach its destination.\n"
     ]
    }
   ],
   "source": [
    "news_head = soup.find('div', class_='article_teaser_body').text\n",
    "print(news_head)"
   ]
  },
  {
   "cell_type": "code",
   "execution_count": 71,
   "metadata": {},
   "outputs": [],
   "source": [
    "image_url = \"https://www.jpl.nasa.gov/spaceimages/?search=&category=Mars\"\n",
    "#browser.visit(url2)"
   ]
  },
  {
   "cell_type": "code",
   "execution_count": 73,
   "metadata": {},
   "outputs": [
    {
     "name": "stdout",
     "output_type": "stream",
     "text": [
      "https://www.jpl.nasa.gov/ + a.get('src')\n",
      "https://www.jpl.nasa.gov/ + a.get('src')\n",
      "https://www.jpl.nasa.gov/ + a.get('src')\n",
      "https://www.jpl.nasa.gov/ + a.get('src')\n",
      "https://www.jpl.nasa.gov/ + a.get('src')\n",
      "https://www.jpl.nasa.gov/ + a.get('src')\n",
      "https://www.jpl.nasa.gov/ + a.get('src')\n",
      "https://www.jpl.nasa.gov/ + a.get('src')\n",
      "https://www.jpl.nasa.gov/ + a.get('src')\n",
      "https://www.jpl.nasa.gov/ + a.get('src')\n",
      "https://www.jpl.nasa.gov/ + a.get('src')\n",
      "https://www.jpl.nasa.gov/ + a.get('src')\n",
      "https://www.jpl.nasa.gov/ + a.get('src')\n",
      "https://www.jpl.nasa.gov/ + a.get('src')\n",
      "https://www.jpl.nasa.gov/ + a.get('src')\n",
      "https://www.jpl.nasa.gov/ + a.get('src')\n",
      "https://www.jpl.nasa.gov/ + a.get('src')\n",
      "https://www.jpl.nasa.gov/ + a.get('src')\n",
      "https://www.jpl.nasa.gov/ + a.get('src')\n",
      "https://www.jpl.nasa.gov/ + a.get('src')\n",
      "https://www.jpl.nasa.gov/ + a.get('src')\n",
      "https://www.jpl.nasa.gov/ + a.get('src')\n",
      "https://www.jpl.nasa.gov/ + a.get('src')\n",
      "https://www.jpl.nasa.gov/ + a.get('src')\n",
      "https://www.jpl.nasa.gov/ + a.get('src')\n",
      "https://www.jpl.nasa.gov/ + a.get('src')\n",
      "https://www.jpl.nasa.gov/ + a.get('src')\n",
      "https://www.jpl.nasa.gov/ + a.get('src')\n",
      "https://www.jpl.nasa.gov/ + a.get('src')\n",
      "https://www.jpl.nasa.gov/ + a.get('src')\n",
      "https://www.jpl.nasa.gov/ + a.get('src')\n",
      "https://www.jpl.nasa.gov/ + a.get('src')\n",
      "https://www.jpl.nasa.gov/ + a.get('src')\n",
      "https://www.jpl.nasa.gov/ + a.get('src')\n",
      "https://www.jpl.nasa.gov/ + a.get('src')\n",
      "https://www.jpl.nasa.gov/ + a.get('src')\n",
      "https://www.jpl.nasa.gov/ + a.get('src')\n",
      "https://www.jpl.nasa.gov/ + a.get('src')\n",
      "https://www.jpl.nasa.gov/ + a.get('src')\n",
      "https://www.jpl.nasa.gov/ + a.get('src')\n",
      "https://www.jpl.nasa.gov/ + a.get('src')\n",
      "https://www.jpl.nasa.gov/ + a.get('src')\n",
      "https://www.jpl.nasa.gov/ + a.get('src')\n",
      "https://www.jpl.nasa.gov/ + a.get('src')\n",
      "https://www.jpl.nasa.gov/ + a.get('src')\n",
      "https://www.jpl.nasa.gov/ + a.get('src')\n",
      "https://www.jpl.nasa.gov/ + a.get('src')\n",
      "https://www.jpl.nasa.gov/ + a.get('src')\n",
      "https://www.jpl.nasa.gov/ + a.get('src')\n",
      "https://www.jpl.nasa.gov/ + a.get('src')\n",
      "https://www.jpl.nasa.gov/ + a.get('src')\n",
      "https://www.jpl.nasa.gov/ + a.get('src')\n",
      "https://www.jpl.nasa.gov/ + a.get('src')\n",
      "https://www.jpl.nasa.gov/ + a.get('src')\n",
      "https://www.jpl.nasa.gov/ + a.get('src')\n",
      "https://www.jpl.nasa.gov/ + a.get('src')\n",
      "https://www.jpl.nasa.gov/ + a.get('src')\n",
      "https://www.jpl.nasa.gov/ + a.get('src')\n",
      "https://www.jpl.nasa.gov/ + a.get('src')\n",
      "https://www.jpl.nasa.gov/ + a.get('src')\n",
      "https://www.jpl.nasa.gov/ + a.get('src')\n",
      "https://www.jpl.nasa.gov/ + a.get('src')\n",
      "https://www.jpl.nasa.gov/ + a.get('src')\n",
      "https://www.jpl.nasa.gov/ + a.get('src')\n",
      "https://www.jpl.nasa.gov/ + a.get('src')\n",
      "https://www.jpl.nasa.gov/ + a.get('src')\n",
      "https://www.jpl.nasa.gov/ + a.get('src')\n",
      "https://www.jpl.nasa.gov/ + a.get('src')\n",
      "https://www.jpl.nasa.gov/ + a.get('src')\n",
      "https://www.jpl.nasa.gov/ + a.get('src')\n",
      "https://www.jpl.nasa.gov/ + a.get('src')\n",
      "https://www.jpl.nasa.gov/ + a.get('src')\n",
      "https://www.jpl.nasa.gov/ + a.get('src')\n",
      "https://www.jpl.nasa.gov/ + a.get('src')\n"
     ]
    }
   ],
   "source": [
    "# get contents from url\n",
    "content = requests.get(image_url).content\n",
    "# get soup\n",
    "soup = BeautifulSoup(content,'lxml') # choose lxml parser\n",
    "# find the tag : <img ... >\n",
    "featured_image_url = soup.findAll('img', src_=\"\")\n",
    "# print out image urls\n",
    "base_url = \"https://www.jpl.nasa.gov/\"\n",
    "for a in featured_image_url:\n",
    "    print(f\"{base_url} + a.get('src')\")"
   ]
  },
  {
   "cell_type": "code",
   "execution_count": 76,
   "metadata": {},
   "outputs": [],
   "source": [
    "facts_url = \"https://space-facts.com/mars/\""
   ]
  },
  {
   "cell_type": "code",
   "execution_count": 77,
   "metadata": {},
   "outputs": [
    {
     "data": {
      "text/plain": [
       "3"
      ]
     },
     "execution_count": 77,
     "metadata": {},
     "output_type": "execute_result"
    }
   ],
   "source": [
    "tables = pd.read_html(facts_url)\n",
    "len(tables)"
   ]
  },
  {
   "cell_type": "code",
   "execution_count": 79,
   "metadata": {},
   "outputs": [
    {
     "name": "stdout",
     "output_type": "stream",
     "text": [
      "<class 'list'>\n",
      "<class 'pandas.core.frame.DataFrame'>\n"
     ]
    }
   ],
   "source": [
    "print(type(tables))\n",
    "print(type(tables[0]))"
   ]
  },
  {
   "cell_type": "code",
   "execution_count": 80,
   "metadata": {},
   "outputs": [
    {
     "data": {
      "text/html": [
       "<div>\n",
       "<style scoped>\n",
       "    .dataframe tbody tr th:only-of-type {\n",
       "        vertical-align: middle;\n",
       "    }\n",
       "\n",
       "    .dataframe tbody tr th {\n",
       "        vertical-align: top;\n",
       "    }\n",
       "\n",
       "    .dataframe thead th {\n",
       "        text-align: right;\n",
       "    }\n",
       "</style>\n",
       "<table border=\"1\" class=\"dataframe\">\n",
       "  <thead>\n",
       "    <tr style=\"text-align: right;\">\n",
       "      <th></th>\n",
       "      <th>Mars - Earth Comparison</th>\n",
       "      <th>Mars</th>\n",
       "      <th>Earth</th>\n",
       "    </tr>\n",
       "  </thead>\n",
       "  <tbody>\n",
       "    <tr>\n",
       "      <th>0</th>\n",
       "      <td>Diameter:</td>\n",
       "      <td>6,779 km</td>\n",
       "      <td>12,742 km</td>\n",
       "    </tr>\n",
       "    <tr>\n",
       "      <th>1</th>\n",
       "      <td>Mass:</td>\n",
       "      <td>6.39 × 10^23 kg</td>\n",
       "      <td>5.97 × 10^24 kg</td>\n",
       "    </tr>\n",
       "    <tr>\n",
       "      <th>2</th>\n",
       "      <td>Moons:</td>\n",
       "      <td>2</td>\n",
       "      <td>1</td>\n",
       "    </tr>\n",
       "    <tr>\n",
       "      <th>3</th>\n",
       "      <td>Distance from Sun:</td>\n",
       "      <td>227,943,824 km</td>\n",
       "      <td>149,598,262 km</td>\n",
       "    </tr>\n",
       "    <tr>\n",
       "      <th>4</th>\n",
       "      <td>Length of Year:</td>\n",
       "      <td>687 Earth days</td>\n",
       "      <td>365.24 days</td>\n",
       "    </tr>\n",
       "  </tbody>\n",
       "</table>\n",
       "</div>"
      ],
      "text/plain": [
       "  Mars - Earth Comparison             Mars            Earth\n",
       "0               Diameter:         6,779 km        12,742 km\n",
       "1                   Mass:  6.39 × 10^23 kg  5.97 × 10^24 kg\n",
       "2                  Moons:                2                1\n",
       "3      Distance from Sun:   227,943,824 km   149,598,262 km\n",
       "4         Length of Year:   687 Earth days      365.24 days"
      ]
     },
     "execution_count": 80,
     "metadata": {},
     "output_type": "execute_result"
    }
   ],
   "source": [
    "df =  tables[1]\n",
    "df.head()"
   ]
  },
  {
   "cell_type": "code",
   "execution_count": 81,
   "metadata": {},
   "outputs": [
    {
     "name": "stdout",
     "output_type": "stream",
     "text": [
      "<table border=\"1\" class=\"dataframe\">\n",
      "  <thead>\n",
      "    <tr style=\"text-align: right;\">\n",
      "      <th></th>\n",
      "      <th>Mars - Earth Comparison</th>\n",
      "      <th>Mars</th>\n",
      "      <th>Earth</th>\n",
      "    </tr>\n",
      "  </thead>\n",
      "  <tbody>\n",
      "    <tr>\n",
      "      <th>0</th>\n",
      "      <td>Diameter:</td>\n",
      "      <td>6,779 km</td>\n",
      "      <td>12,742 km</td>\n",
      "    </tr>\n",
      "    <tr>\n",
      "      <th>1</th>\n",
      "      <td>Mass:</td>\n",
      "      <td>6.39 × 10^23 kg</td>\n",
      "      <td>5.97 × 10^24 kg</td>\n",
      "    </tr>\n",
      "    <tr>\n",
      "      <th>2</th>\n",
      "      <td>Moons:</td>\n",
      "      <td>2</td>\n",
      "      <td>1</td>\n",
      "    </tr>\n",
      "    <tr>\n",
      "      <th>3</th>\n",
      "      <td>Distance from Sun:</td>\n",
      "      <td>227,943,824 km</td>\n",
      "      <td>149,598,262 km</td>\n",
      "    </tr>\n",
      "    <tr>\n",
      "      <th>4</th>\n",
      "      <td>Length of Year:</td>\n",
      "      <td>687 Earth days</td>\n",
      "      <td>365.24 days</td>\n",
      "    </tr>\n",
      "    <tr>\n",
      "      <th>5</th>\n",
      "      <td>Temperature:</td>\n",
      "      <td>-87 to -5 °C</td>\n",
      "      <td>-88 to 58°C</td>\n",
      "    </tr>\n",
      "  </tbody>\n",
      "</table>\n"
     ]
    }
   ],
   "source": [
    "html_table = df.to_html()\n",
    "print(html_table)"
   ]
  },
  {
   "cell_type": "code",
   "execution_count": 82,
   "metadata": {},
   "outputs": [],
   "source": [
    "df.to_html('table.html')"
   ]
  },
  {
   "cell_type": "code",
   "execution_count": null,
   "metadata": {},
   "outputs": [],
   "source": [
    "browser.quit()"
   ]
  }
 ],
 "metadata": {
  "kernelspec": {
   "display_name": "Python 3",
   "language": "python",
   "name": "python3"
  },
  "language_info": {
   "codemirror_mode": {
    "name": "ipython",
    "version": 3
   },
   "file_extension": ".py",
   "mimetype": "text/x-python",
   "name": "python",
   "nbconvert_exporter": "python",
   "pygments_lexer": "ipython3",
   "version": "3.8.3"
  }
 },
 "nbformat": 4,
 "nbformat_minor": 4
}
